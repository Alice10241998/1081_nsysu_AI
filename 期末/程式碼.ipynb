{
 "cells": [
  {
   "cell_type": "code",
   "execution_count": 70,
   "metadata": {},
   "outputs": [
    {
     "name": "stdout",
     "output_type": "stream",
     "text": [
      "<class 'pandas.core.frame.DataFrame'>\n",
      "RangeIndex: 891 entries, 0 to 890\n",
      "Data columns (total 12 columns):\n",
      "PassengerId    891 non-null int64\n",
      "Survived       891 non-null int64\n",
      "Pclass         891 non-null int64\n",
      "Name           891 non-null object\n",
      "Sex            891 non-null object\n",
      "Age            714 non-null float64\n",
      "SibSp          891 non-null int64\n",
      "Parch          891 non-null int64\n",
      "Ticket         891 non-null object\n",
      "Fare           891 non-null float64\n",
      "Cabin          204 non-null object\n",
      "Embarked       889 non-null object\n",
      "dtypes: float64(2), int64(5), object(5)\n",
      "memory usage: 83.7+ KB\n"
     ]
    }
   ],
   "source": [
    "import pandas as pd\n",
    "import numpy as np\n",
    "import seaborn as sns\n",
    "#讀取資料\n",
    "data = pd.read_csv('train.csv')\n",
    "test = pd.read_csv('test.csv')\n",
    "#列出所有項目\n",
    "data.info()"
   ]
  },
  {
   "cell_type": "code",
   "execution_count": 71,
   "metadata": {
    "scrolled": true
   },
   "outputs": [
    {
     "data": {
      "text/plain": [
       "<matplotlib.axes._subplots.AxesSubplot at 0x1db0ce0a940>"
      ]
     },
     "execution_count": 71,
     "metadata": {},
     "output_type": "execute_result"
    },
    {
     "data": {
      "image/png": "[encoded data removed]",
      "text/plain": [
       "<Figure size 432x288 with 1 Axes>"
      ]
     },
     "metadata": {
      "needs_background": "light"
     },
     "output_type": "display_data"
    }
   ],
   "source": [
    "#存活比\n",
    "sns.countplot(data['Survived'])"
   ]
  },
  {
   "cell_type": "code",
   "execution_count": 72,
   "metadata": {
    "scrolled": true
   },
   "outputs": [
    {
     "data": {
      "text/html": [
       "<div>\n",
       "<style scoped>\n",
       "    .dataframe tbody tr th:only-of-type {\n",
       "        vertical-align: middle;\n",
       "    }\n",
       "\n",
       "    .dataframe tbody tr th {\n",
       "        vertical-align: top;\n",
       "    }\n",
       "\n",
       "    .dataframe thead th {\n",
       "        text-align: right;\n",
       "    }\n",
       "</style>\n",
       "<table border=\"1\" class=\"dataframe\">\n",
       "  <thead>\n",
       "    <tr style=\"text-align: right;\">\n",
       "      <th></th>\n",
       "      <th>Pclass</th>\n",
       "      <th>Survived</th>\n",
       "    </tr>\n",
       "  </thead>\n",
       "  <tbody>\n",
       "    <tr>\n",
       "      <th>0</th>\n",
       "      <td>1</td>\n",
       "      <td>0.63</td>\n",
       "    </tr>\n",
       "    <tr>\n",
       "      <th>1</th>\n",
       "      <td>2</td>\n",
       "      <td>0.47</td>\n",
       "    </tr>\n",
       "    <tr>\n",
       "      <th>2</th>\n",
       "      <td>3</td>\n",
       "      <td>0.24</td>\n",
       "    </tr>\n",
       "  </tbody>\n",
       "</table>\n",
       "</div>"
      ],
      "text/plain": [
       "   Pclass  Survived\n",
       "0       1      0.63\n",
       "1       2      0.47\n",
       "2       3      0.24"
      ]
     },
     "metadata": {},
     "output_type": "display_data"
    },
    {
     "data": {
      "image/png": "[encoded data removed]",
      "text/plain": [
       "<Figure size 432x288 with 1 Axes>"
      ]
     },
     "metadata": {
      "needs_background": "light"
     },
     "output_type": "display_data"
    }
   ],
   "source": [
    "#存活與艙等的比較\n",
    "sns.countplot(data['Pclass'],hue=data['Survived'])\n",
    "display(data[[\"Pclass\", \"Survived\"]].groupby(['Pclass'], \n",
    "        as_index=False).mean().round(2))"
   ]
  },
  {
   "cell_type": "code",
   "execution_count": 73,
   "metadata": {
    "scrolled": true
   },
   "outputs": [
    {
     "data": {
      "text/html": [
       "<div>\n",
       "<style scoped>\n",
       "    .dataframe tbody tr th:only-of-type {\n",
       "        vertical-align: middle;\n",
       "    }\n",
       "\n",
       "    .dataframe tbody tr th {\n",
       "        vertical-align: top;\n",
       "    }\n",
       "\n",
       "    .dataframe thead th {\n",
       "        text-align: right;\n",
       "    }\n",
       "</style>\n",
       "<table border=\"1\" class=\"dataframe\">\n",
       "  <thead>\n",
       "    <tr style=\"text-align: right;\">\n",
       "      <th></th>\n",
       "      <th>Sex</th>\n",
       "      <th>Survived</th>\n",
       "    </tr>\n",
       "  </thead>\n",
       "  <tbody>\n",
       "    <tr>\n",
       "      <th>0</th>\n",
       "      <td>female</td>\n",
       "      <td>0.74</td>\n",
       "    </tr>\n",
       "    <tr>\n",
       "      <th>1</th>\n",
       "      <td>male</td>\n",
       "      <td>0.19</td>\n",
       "    </tr>\n",
       "  </tbody>\n",
       "</table>\n",
       "</div>"
      ],
      "text/plain": [
       "      Sex  Survived\n",
       "0  female      0.74\n",
       "1    male      0.19"
      ]
     },
     "metadata": {},
     "output_type": "display_data"
    },
    {
     "data": {
      "image/png": "[encoded data removed]",
      "text/plain": [
       "<Figure size 432x288 with 1 Axes>"
      ]
     },
     "metadata": {
      "needs_background": "light"
     },
     "output_type": "display_data"
    }
   ],
   "source": [
    "#存活與性別的比較\n",
    "sns.countplot(data['Sex'],hue=data['Survived'])\n",
    "display(data[[\"Sex\", \"Survived\"]].groupby(['Sex'], \n",
    "        as_index=False).mean().round(2))"
   ]
  },
  {
   "cell_type": "code",
   "execution_count": 74,
   "metadata": {},
   "outputs": [
    {
     "data": {
      "text/plain": [
       "<seaborn.axisgrid.FacetGrid at 0x1db0e270470>"
      ]
     },
     "execution_count": 74,
     "metadata": {},
     "output_type": "execute_result"
    },
    {
     "data": {
      "image/png": "[encoded data removed]",
      "text/plain": [
       "<Figure size 432x216 with 2 Axes>"
      ]
     },
     "metadata": {
      "needs_background": "light"
     },
     "output_type": "display_data"
    }
   ],
   "source": [
    "#存活與年齡的比較\n",
    "age = sns.FacetGrid(data, col='Survived')\n",
    "age.map(sns.distplot, 'Age', kde=False)"
   ]
  },
  {
   "cell_type": "code",
   "execution_count": 75,
   "metadata": {},
   "outputs": [
    {
     "data": {
      "text/plain": [
       "<matplotlib.axes._subplots.AxesSubplot at 0x1db0e1cc9b0>"
      ]
     },
     "execution_count": 75,
     "metadata": {},
     "output_type": "execute_result"
    },
    {
     "data": {
      "image/png": "[encoded data removed]",
      "text/plain": [
       "<Figure size 432x288 with 1 Axes>"
      ]
     },
     "metadata": {
      "needs_background": "light"
     },
     "output_type": "display_data"
    }
   ],
   "source": [
    "#存活與堂兄弟妹的比較\n",
    "sns.countplot(data['SibSp'],hue=data['Survived'])"
   ]
  },
  {
   "cell_type": "code",
   "execution_count": 76,
   "metadata": {},
   "outputs": [
    {
     "data": {
      "text/plain": [
       "<matplotlib.axes._subplots.AxesSubplot at 0x1db0e1ee940>"
      ]
     },
     "execution_count": 76,
     "metadata": {},
     "output_type": "execute_result"
    },
    {
     "data": {
      "image/png": "[encoded data removed]",
      "text/plain": [
       "<Figure size 432x288 with 1 Axes>"
      ]
     },
     "metadata": {
      "needs_background": "light"
     },
     "output_type": "display_data"
    }
   ],
   "source": [
    "#存活與父母與小孩的比較\n",
    "sns.countplot(data['Parch'],hue=data['Survived'])"
   ]
  },
  {
   "cell_type": "code",
   "execution_count": null,
   "metadata": {},
   "outputs": [],
   "source": []
  },
  {
   "cell_type": "code",
   "execution_count": 77,
   "metadata": {
    "scrolled": true
   },
   "outputs": [
    {
     "data": {
      "text/plain": [
       "<seaborn.axisgrid.FacetGrid at 0x1db0e3c7eb8>"
      ]
     },
     "execution_count": 77,
     "metadata": {},
     "output_type": "execute_result"
    },
    {
     "data": {
      "image/png": "[encoded data removed]",
      "text/plain": [
       "<Figure size 432x216 with 2 Axes>"
      ]
     },
     "metadata": {
      "needs_background": "light"
     },
     "output_type": "display_data"
    }
   ],
   "source": [
    "#存活與票價的比較\n",
    "age = sns.FacetGrid(data, col='Survived')\n",
    "age.map(sns.distplot, 'Fare', kde=False)"
   ]
  },
  {
   "cell_type": "code",
   "execution_count": 78,
   "metadata": {},
   "outputs": [
    {
     "data": {
      "text/plain": [
       "<matplotlib.axes._subplots.AxesSubplot at 0x1db0e576a90>"
      ]
     },
     "execution_count": 78,
     "metadata": {},
     "output_type": "execute_result"
    },
    {
     "data": {
      "image/png": "[encoded data removed]",
      "text/plain": [
       "<Figure size 432x288 with 1 Axes>"
      ]
     },
     "metadata": {
      "needs_background": "light"
     },
     "output_type": "display_data"
    }
   ],
   "source": [
    "#存活與登入港口的比較\n",
    "sns.countplot(data['Embarked'],hue=data['Survived'])"
   ]
  },
  {
   "cell_type": "code",
   "execution_count": 79,
   "metadata": {},
   "outputs": [],
   "source": [
    "#選擇這五個特徵做訓練和測試\n",
    "feature=['Pclass','Sex','SibSp','Parch','Embarked']\n",
    "xtrain=data[feature]\n",
    "xtest=test[feature]\n",
    "ytrain=data['Survived']"
   ]
  },
  {
   "cell_type": "code",
   "execution_count": 80,
   "metadata": {},
   "outputs": [
    {
     "name": "stdout",
     "output_type": "stream",
     "text": [
      "<class 'pandas.core.frame.DataFrame'>\n",
      "RangeIndex: 891 entries, 0 to 890\n",
      "Data columns (total 5 columns):\n",
      "Pclass      891 non-null int64\n",
      "Sex         891 non-null object\n",
      "SibSp       891 non-null int64\n",
      "Parch       891 non-null int64\n",
      "Embarked    889 non-null object\n",
      "dtypes: int64(3), object(2)\n",
      "memory usage: 34.9+ KB\n"
     ]
    }
   ],
   "source": [
    "xtrain.info()"
   ]
  },
  {
   "cell_type": "code",
   "execution_count": 81,
   "metadata": {},
   "outputs": [
    {
     "name": "stdout",
     "output_type": "stream",
     "text": [
      "<class 'pandas.core.frame.DataFrame'>\n",
      "RangeIndex: 418 entries, 0 to 417\n",
      "Data columns (total 5 columns):\n",
      "Pclass      418 non-null int64\n",
      "Sex         418 non-null object\n",
      "SibSp       418 non-null int64\n",
      "Parch       418 non-null int64\n",
      "Embarked    418 non-null object\n",
      "dtypes: int64(3), object(2)\n",
      "memory usage: 16.5+ KB\n"
     ]
    }
   ],
   "source": [
    "xtest.info()"
   ]
  },
  {
   "cell_type": "code",
   "execution_count": 82,
   "metadata": {},
   "outputs": [
    {
     "name": "stdout",
     "output_type": "stream",
     "text": [
      "['Embarked=C', 'Embarked=Q', 'Embarked=S', 'Parch', 'Pclass', 'Sex=female', 'Sex=male', 'SibSp']\n"
     ]
    },
    {
     "name": "stderr",
     "output_type": "stream",
     "text": [
      "D:\\Anaconda\\lib\\site-packages\\pandas\\core\\generic.py:6287: SettingWithCopyWarning: \n",
      "A value is trying to be set on a copy of a slice from a DataFrame\n",
      "\n",
      "See the caveats in the documentation: http://pandas.pydata.org/pandas-docs/stable/user_guide/indexing.html#returning-a-view-versus-a-copy\n",
      "  self._update_inplace(new_data)\n"
     ]
    }
   ],
   "source": [
    "xtrain['Embarked'].fillna('S',inplace=True)\n",
    "xtest['Embarked'].fillna('S',inplace=True)\n",
    "from sklearn.feature_extraction import DictVectorizer\n",
    "dvec=DictVectorizer(sparse=False)\n",
    "xtrain=dvec.fit_transform(xtrain.to_dict(orient='record'))\n",
    "xtest=dvec.transform(xtest.to_dict(orient='record'))\n",
    "print (dvec.feature_names_)"
   ]
  },
  {
   "cell_type": "code",
   "execution_count": 83,
   "metadata": {},
   "outputs": [],
   "source": [
    "from sklearn.model_selection import cross_val_score\n",
    "from sklearn.svm import SVC\n",
    "from sklearn.tree import DecisionTreeClassifier\n",
    "from sklearn.ensemble import RandomForestClassifier\n",
    "from sklearn.linear_model  import LogisticRegression\n",
    "# 支援向量機\n",
    "svc = SVC()\n",
    "# 決策樹\n",
    "decC = DecisionTreeClassifier()\n",
    "# 隨機森林\n",
    "ranC = RandomForestClassifier()\n",
    "# 邏輯迴歸\n",
    "logR = LogisticRegression()"
   ]
  },
  {
   "cell_type": "code",
   "execution_count": 84,
   "metadata": {},
   "outputs": [
    {
     "name": "stderr",
     "output_type": "stream",
     "text": [
      "D:\\Anaconda\\lib\\site-packages\\sklearn\\svm\\base.py:193: FutureWarning: The default value of gamma will change from 'auto' to 'scale' in version 0.22 to account better for unscaled features. Set gamma explicitly to 'auto' or 'scale' to avoid this warning.\n",
      "  \"avoid this warning.\", FutureWarning)\n",
      "D:\\Anaconda\\lib\\site-packages\\sklearn\\svm\\base.py:193: FutureWarning: The default value of gamma will change from 'auto' to 'scale' in version 0.22 to account better for unscaled features. Set gamma explicitly to 'auto' or 'scale' to avoid this warning.\n",
      "  \"avoid this warning.\", FutureWarning)\n",
      "D:\\Anaconda\\lib\\site-packages\\sklearn\\svm\\base.py:193: FutureWarning: The default value of gamma will change from 'auto' to 'scale' in version 0.22 to account better for unscaled features. Set gamma explicitly to 'auto' or 'scale' to avoid this warning.\n",
      "  \"avoid this warning.\", FutureWarning)\n",
      "D:\\Anaconda\\lib\\site-packages\\sklearn\\svm\\base.py:193: FutureWarning: The default value of gamma will change from 'auto' to 'scale' in version 0.22 to account better for unscaled features. Set gamma explicitly to 'auto' or 'scale' to avoid this warning.\n",
      "  \"avoid this warning.\", FutureWarning)\n",
      "D:\\Anaconda\\lib\\site-packages\\sklearn\\svm\\base.py:193: FutureWarning: The default value of gamma will change from 'auto' to 'scale' in version 0.22 to account better for unscaled features. Set gamma explicitly to 'auto' or 'scale' to avoid this warning.\n",
      "  \"avoid this warning.\", FutureWarning)\n",
      "D:\\Anaconda\\lib\\site-packages\\sklearn\\svm\\base.py:193: FutureWarning: The default value of gamma will change from 'auto' to 'scale' in version 0.22 to account better for unscaled features. Set gamma explicitly to 'auto' or 'scale' to avoid this warning.\n",
      "  \"avoid this warning.\", FutureWarning)\n",
      "D:\\Anaconda\\lib\\site-packages\\sklearn\\svm\\base.py:193: FutureWarning: The default value of gamma will change from 'auto' to 'scale' in version 0.22 to account better for unscaled features. Set gamma explicitly to 'auto' or 'scale' to avoid this warning.\n",
      "  \"avoid this warning.\", FutureWarning)\n",
      "D:\\Anaconda\\lib\\site-packages\\sklearn\\svm\\base.py:193: FutureWarning: The default value of gamma will change from 'auto' to 'scale' in version 0.22 to account better for unscaled features. Set gamma explicitly to 'auto' or 'scale' to avoid this warning.\n",
      "  \"avoid this warning.\", FutureWarning)\n",
      "D:\\Anaconda\\lib\\site-packages\\sklearn\\svm\\base.py:193: FutureWarning: The default value of gamma will change from 'auto' to 'scale' in version 0.22 to account better for unscaled features. Set gamma explicitly to 'auto' or 'scale' to avoid this warning.\n",
      "  \"avoid this warning.\", FutureWarning)\n",
      "D:\\Anaconda\\lib\\site-packages\\sklearn\\svm\\base.py:193: FutureWarning: The default value of gamma will change from 'auto' to 'scale' in version 0.22 to account better for unscaled features. Set gamma explicitly to 'auto' or 'scale' to avoid this warning.\n",
      "  \"avoid this warning.\", FutureWarning)\n",
      "D:\\Anaconda\\lib\\site-packages\\sklearn\\ensemble\\forest.py:245: FutureWarning: The default value of n_estimators will change from 10 in version 0.20 to 100 in 0.22.\n",
      "  \"10 in version 0.20 to 100 in 0.22.\", FutureWarning)\n",
      "D:\\Anaconda\\lib\\site-packages\\sklearn\\ensemble\\forest.py:245: FutureWarning: The default value of n_estimators will change from 10 in version 0.20 to 100 in 0.22.\n",
      "  \"10 in version 0.20 to 100 in 0.22.\", FutureWarning)\n"
     ]
    },
    {
     "name": "stdout",
     "output_type": "stream",
     "text": [
      "SVM : 0.80695\n",
      "DecisionTree : 0.79687\n"
     ]
    },
    {
     "name": "stderr",
     "output_type": "stream",
     "text": [
      "D:\\Anaconda\\lib\\site-packages\\sklearn\\ensemble\\forest.py:245: FutureWarning: The default value of n_estimators will change from 10 in version 0.20 to 100 in 0.22.\n",
      "  \"10 in version 0.20 to 100 in 0.22.\", FutureWarning)\n",
      "D:\\Anaconda\\lib\\site-packages\\sklearn\\ensemble\\forest.py:245: FutureWarning: The default value of n_estimators will change from 10 in version 0.20 to 100 in 0.22.\n",
      "  \"10 in version 0.20 to 100 in 0.22.\", FutureWarning)\n",
      "D:\\Anaconda\\lib\\site-packages\\sklearn\\ensemble\\forest.py:245: FutureWarning: The default value of n_estimators will change from 10 in version 0.20 to 100 in 0.22.\n",
      "  \"10 in version 0.20 to 100 in 0.22.\", FutureWarning)\n",
      "D:\\Anaconda\\lib\\site-packages\\sklearn\\ensemble\\forest.py:245: FutureWarning: The default value of n_estimators will change from 10 in version 0.20 to 100 in 0.22.\n",
      "  \"10 in version 0.20 to 100 in 0.22.\", FutureWarning)\n",
      "D:\\Anaconda\\lib\\site-packages\\sklearn\\ensemble\\forest.py:245: FutureWarning: The default value of n_estimators will change from 10 in version 0.20 to 100 in 0.22.\n",
      "  \"10 in version 0.20 to 100 in 0.22.\", FutureWarning)\n",
      "D:\\Anaconda\\lib\\site-packages\\sklearn\\ensemble\\forest.py:245: FutureWarning: The default value of n_estimators will change from 10 in version 0.20 to 100 in 0.22.\n",
      "  \"10 in version 0.20 to 100 in 0.22.\", FutureWarning)\n",
      "D:\\Anaconda\\lib\\site-packages\\sklearn\\ensemble\\forest.py:245: FutureWarning: The default value of n_estimators will change from 10 in version 0.20 to 100 in 0.22.\n",
      "  \"10 in version 0.20 to 100 in 0.22.\", FutureWarning)\n",
      "D:\\Anaconda\\lib\\site-packages\\sklearn\\ensemble\\forest.py:245: FutureWarning: The default value of n_estimators will change from 10 in version 0.20 to 100 in 0.22.\n",
      "  \"10 in version 0.20 to 100 in 0.22.\", FutureWarning)\n",
      "D:\\Anaconda\\lib\\site-packages\\sklearn\\linear_model\\logistic.py:432: FutureWarning: Default solver will be changed to 'lbfgs' in 0.22. Specify a solver to silence this warning.\n",
      "  FutureWarning)\n",
      "D:\\Anaconda\\lib\\site-packages\\sklearn\\linear_model\\logistic.py:432: FutureWarning: Default solver will be changed to 'lbfgs' in 0.22. Specify a solver to silence this warning.\n",
      "  FutureWarning)\n",
      "D:\\Anaconda\\lib\\site-packages\\sklearn\\linear_model\\logistic.py:432: FutureWarning: Default solver will be changed to 'lbfgs' in 0.22. Specify a solver to silence this warning.\n",
      "  FutureWarning)\n",
      "D:\\Anaconda\\lib\\site-packages\\sklearn\\linear_model\\logistic.py:432: FutureWarning: Default solver will be changed to 'lbfgs' in 0.22. Specify a solver to silence this warning.\n",
      "  FutureWarning)\n",
      "D:\\Anaconda\\lib\\site-packages\\sklearn\\linear_model\\logistic.py:432: FutureWarning: Default solver will be changed to 'lbfgs' in 0.22. Specify a solver to silence this warning.\n",
      "  FutureWarning)\n",
      "D:\\Anaconda\\lib\\site-packages\\sklearn\\linear_model\\logistic.py:432: FutureWarning: Default solver will be changed to 'lbfgs' in 0.22. Specify a solver to silence this warning.\n",
      "  FutureWarning)\n",
      "D:\\Anaconda\\lib\\site-packages\\sklearn\\linear_model\\logistic.py:432: FutureWarning: Default solver will be changed to 'lbfgs' in 0.22. Specify a solver to silence this warning.\n",
      "  FutureWarning)\n"
     ]
    },
    {
     "name": "stdout",
     "output_type": "stream",
     "text": [
      "RandomForest : 0.78691\n",
      "LogisticRegression : 0.78453\n"
     ]
    },
    {
     "name": "stderr",
     "output_type": "stream",
     "text": [
      "D:\\Anaconda\\lib\\site-packages\\sklearn\\linear_model\\logistic.py:432: FutureWarning: Default solver will be changed to 'lbfgs' in 0.22. Specify a solver to silence this warning.\n",
      "  FutureWarning)\n",
      "D:\\Anaconda\\lib\\site-packages\\sklearn\\linear_model\\logistic.py:432: FutureWarning: Default solver will be changed to 'lbfgs' in 0.22. Specify a solver to silence this warning.\n",
      "  FutureWarning)\n",
      "D:\\Anaconda\\lib\\site-packages\\sklearn\\linear_model\\logistic.py:432: FutureWarning: Default solver will be changed to 'lbfgs' in 0.22. Specify a solver to silence this warning.\n",
      "  FutureWarning)\n"
     ]
    }
   ],
   "source": [
    "print ('SVM :', np.mean(cross_val_score(svc, xtrain, ytrain, cv=10)).round(5))\n",
    "print ('DecisionTree :', np.mean(cross_val_score(decC, xtrain, ytrain, cv=10)).round(5))\n",
    "print ('RandomForest :', np.mean(cross_val_score(ranC, xtrain, ytrain, cv=10)).round(5))\n",
    "print ('LogisticRegression :', np.mean(cross_val_score(logR, xtrain, ytrain, cv=10)).round(5))"
   ]
  },
  {
   "cell_type": "code",
   "execution_count": 85,
   "metadata": {},
   "outputs": [
    {
     "name": "stderr",
     "output_type": "stream",
     "text": [
      "D:\\Anaconda\\lib\\site-packages\\sklearn\\linear_model\\logistic.py:432: FutureWarning: Default solver will be changed to 'lbfgs' in 0.22. Specify a solver to silence this warning.\n",
      "  FutureWarning)\n"
     ]
    }
   ],
   "source": [
    "# 訓練\n",
    "logR.fit(xtrain, ytrain)\n",
    "# 預測\n",
    "ypredict = logR.predict(xtest)\n",
    "# 儲存結果\n",
    "result = {'PassengerId': test['PassengerId'],\n",
    "'Survived': ypredict}\n",
    "result = pd.DataFrame(result)\n",
    "result.to_csv('submission.csv',index=False)"
   ]
  },
  {
   "cell_type": "code",
   "execution_count": 86,
   "metadata": {},
   "outputs": [
    {
     "data": {
      "text/html": [
       "<div>\n",
       "<style scoped>\n",
       "    .dataframe tbody tr th:only-of-type {\n",
       "        vertical-align: middle;\n",
       "    }\n",
       "\n",
       "    .dataframe tbody tr th {\n",
       "        vertical-align: top;\n",
       "    }\n",
       "\n",
       "    .dataframe thead th {\n",
       "        text-align: right;\n",
       "    }\n",
       "</style>\n",
       "<table border=\"1\" class=\"dataframe\">\n",
       "  <thead>\n",
       "    <tr style=\"text-align: right;\">\n",
       "      <th></th>\n",
       "      <th>PassengerId</th>\n",
       "      <th>Survived</th>\n",
       "    </tr>\n",
       "  </thead>\n",
       "  <tbody>\n",
       "    <tr>\n",
       "      <th>0</th>\n",
       "      <td>892</td>\n",
       "      <td>0</td>\n",
       "    </tr>\n",
       "    <tr>\n",
       "      <th>1</th>\n",
       "      <td>893</td>\n",
       "      <td>1</td>\n",
       "    </tr>\n",
       "    <tr>\n",
       "      <th>2</th>\n",
       "      <td>894</td>\n",
       "      <td>0</td>\n",
       "    </tr>\n",
       "    <tr>\n",
       "      <th>3</th>\n",
       "      <td>895</td>\n",
       "      <td>0</td>\n",
       "    </tr>\n",
       "    <tr>\n",
       "      <th>4</th>\n",
       "      <td>896</td>\n",
       "      <td>1</td>\n",
       "    </tr>\n",
       "    <tr>\n",
       "      <th>...</th>\n",
       "      <td>...</td>\n",
       "      <td>...</td>\n",
       "    </tr>\n",
       "    <tr>\n",
       "      <th>413</th>\n",
       "      <td>1305</td>\n",
       "      <td>0</td>\n",
       "    </tr>\n",
       "    <tr>\n",
       "      <th>414</th>\n",
       "      <td>1306</td>\n",
       "      <td>1</td>\n",
       "    </tr>\n",
       "    <tr>\n",
       "      <th>415</th>\n",
       "      <td>1307</td>\n",
       "      <td>0</td>\n",
       "    </tr>\n",
       "    <tr>\n",
       "      <th>416</th>\n",
       "      <td>1308</td>\n",
       "      <td>0</td>\n",
       "    </tr>\n",
       "    <tr>\n",
       "      <th>417</th>\n",
       "      <td>1309</td>\n",
       "      <td>0</td>\n",
       "    </tr>\n",
       "  </tbody>\n",
       "</table>\n",
       "<p>418 rows × 2 columns</p>\n",
       "</div>"
      ],
      "text/plain": [
       "     PassengerId  Survived\n",
       "0            892         0\n",
       "1            893         1\n",
       "2            894         0\n",
       "3            895         0\n",
       "4            896         1\n",
       "..           ...       ...\n",
       "413         1305         0\n",
       "414         1306         1\n",
       "415         1307         0\n",
       "416         1308         0\n",
       "417         1309         0\n",
       "\n",
       "[418 rows x 2 columns]"
      ]
     },
     "execution_count": 86,
     "metadata": {},
     "output_type": "execute_result"
    }
   ],
   "source": [
    "result"
   ]
  },
  {
   "cell_type": "code",
   "execution_count": 87,
   "metadata": {},
   "outputs": [
    {
     "name": "stderr",
     "output_type": "stream",
     "text": [
      "D:\\Anaconda\\lib\\site-packages\\sklearn\\ensemble\\forest.py:245: FutureWarning: The default value of n_estimators will change from 10 in version 0.20 to 100 in 0.22.\n",
      "  \"10 in version 0.20 to 100 in 0.22.\", FutureWarning)\n"
     ]
    }
   ],
   "source": [
    "# 訓練\n",
    "ranC.fit(xtrain, ytrain)\n",
    "# 預測\n",
    "ypredict2 = ranC.predict(xtest)\n",
    "# 儲存結果\n",
    "result2 = {'PassengerId': test['PassengerId'],\n",
    "'Survived': ypredict2}\n",
    "result2 = pd.DataFrame(result)\n",
    "result2.to_csv('submission.csv',index=False)"
   ]
  },
  {
   "cell_type": "code",
   "execution_count": 88,
   "metadata": {},
   "outputs": [
    {
     "data": {
      "text/html": [
       "<div>\n",
       "<style scoped>\n",
       "    .dataframe tbody tr th:only-of-type {\n",
       "        vertical-align: middle;\n",
       "    }\n",
       "\n",
       "    .dataframe tbody tr th {\n",
       "        vertical-align: top;\n",
       "    }\n",
       "\n",
       "    .dataframe thead th {\n",
       "        text-align: right;\n",
       "    }\n",
       "</style>\n",
       "<table border=\"1\" class=\"dataframe\">\n",
       "  <thead>\n",
       "    <tr style=\"text-align: right;\">\n",
       "      <th></th>\n",
       "      <th>PassengerId</th>\n",
       "      <th>Survived</th>\n",
       "    </tr>\n",
       "  </thead>\n",
       "  <tbody>\n",
       "    <tr>\n",
       "      <th>0</th>\n",
       "      <td>892</td>\n",
       "      <td>0</td>\n",
       "    </tr>\n",
       "    <tr>\n",
       "      <th>1</th>\n",
       "      <td>893</td>\n",
       "      <td>1</td>\n",
       "    </tr>\n",
       "    <tr>\n",
       "      <th>2</th>\n",
       "      <td>894</td>\n",
       "      <td>0</td>\n",
       "    </tr>\n",
       "    <tr>\n",
       "      <th>3</th>\n",
       "      <td>895</td>\n",
       "      <td>0</td>\n",
       "    </tr>\n",
       "    <tr>\n",
       "      <th>4</th>\n",
       "      <td>896</td>\n",
       "      <td>1</td>\n",
       "    </tr>\n",
       "    <tr>\n",
       "      <th>...</th>\n",
       "      <td>...</td>\n",
       "      <td>...</td>\n",
       "    </tr>\n",
       "    <tr>\n",
       "      <th>413</th>\n",
       "      <td>1305</td>\n",
       "      <td>0</td>\n",
       "    </tr>\n",
       "    <tr>\n",
       "      <th>414</th>\n",
       "      <td>1306</td>\n",
       "      <td>1</td>\n",
       "    </tr>\n",
       "    <tr>\n",
       "      <th>415</th>\n",
       "      <td>1307</td>\n",
       "      <td>0</td>\n",
       "    </tr>\n",
       "    <tr>\n",
       "      <th>416</th>\n",
       "      <td>1308</td>\n",
       "      <td>0</td>\n",
       "    </tr>\n",
       "    <tr>\n",
       "      <th>417</th>\n",
       "      <td>1309</td>\n",
       "      <td>0</td>\n",
       "    </tr>\n",
       "  </tbody>\n",
       "</table>\n",
       "<p>418 rows × 2 columns</p>\n",
       "</div>"
      ],
      "text/plain": [
       "     PassengerId  Survived\n",
       "0            892         0\n",
       "1            893         1\n",
       "2            894         0\n",
       "3            895         0\n",
       "4            896         1\n",
       "..           ...       ...\n",
       "413         1305         0\n",
       "414         1306         1\n",
       "415         1307         0\n",
       "416         1308         0\n",
       "417         1309         0\n",
       "\n",
       "[418 rows x 2 columns]"
      ]
     },
     "execution_count": 88,
     "metadata": {},
     "output_type": "execute_result"
    }
   ],
   "source": [
    "result2"
   ]
  },
  {
   "cell_type": "code",
   "execution_count": 89,
   "metadata": {},
   "outputs": [
    {
     "name": "stdout",
     "output_type": "stream",
     "text": [
      "<class 'pandas.core.frame.DataFrame'>\n",
      "RangeIndex: 891 entries, 0 to 890\n",
      "Data columns (total 13 columns):\n",
      "PassengerId    891 non-null int64\n",
      "Survived       891 non-null int64\n",
      "Pclass         891 non-null int64\n",
      "Name           891 non-null object\n",
      "Sex            891 non-null object\n",
      "Age            714 non-null float64\n",
      "SibSp          891 non-null int64\n",
      "Parch          891 non-null int64\n",
      "Ticket         891 non-null object\n",
      "Fare           891 non-null float64\n",
      "Cabin          204 non-null object\n",
      "Embarked       889 non-null object\n",
      "family         891 non-null int64\n",
      "dtypes: float64(2), int64(6), object(5)\n",
      "memory usage: 90.6+ KB\n"
     ]
    },
    {
     "data": {
      "image/png": "[encoded data removed]",
      "text/plain": [
       "<Figure size 432x288 with 1 Axes>"
      ]
     },
     "metadata": {
      "needs_background": "light"
     },
     "output_type": "display_data"
    }
   ],
   "source": [
    "data['family']=data['SibSp']+data['Parch']\n",
    "test['family']=test['SibSp']+test['Parch']\n",
    "sns.countplot(data['family'],hue=data['Survived'])\n",
    "data.info()\n"
   ]
  },
  {
   "cell_type": "code",
   "execution_count": 96,
   "metadata": {},
   "outputs": [],
   "source": [
    "#選擇這五個特徵做訓練和測試\n",
    "feature2=['Pclass','Sex','family','Embarked','Ticket']\n",
    "xtrain2=data[feature2]\n",
    "xtest2=test[feature2]\n",
    "ytrain2=data['Survived']"
   ]
  },
  {
   "cell_type": "code",
   "execution_count": 97,
   "metadata": {},
   "outputs": [
    {
     "name": "stdout",
     "output_type": "stream",
     "text": [
      "['Embarked=C', 'Embarked=Q', 'Embarked=S', 'Pclass', 'Sex=female', 'Sex=male', 'Ticket=110152', 'Ticket=110413', 'Ticket=110465', 'Ticket=110564', 'Ticket=110813', 'Ticket=111240', 'Ticket=111320', 'Ticket=111361', 'Ticket=111369', 'Ticket=111426', 'Ticket=111427', 'Ticket=111428', 'Ticket=112050', 'Ticket=112052', 'Ticket=112053', 'Ticket=112058', 'Ticket=112059', 'Ticket=112277', 'Ticket=112379', 'Ticket=113028', 'Ticket=113043', 'Ticket=113050', 'Ticket=113051', 'Ticket=113055', 'Ticket=113056', 'Ticket=113059', 'Ticket=113501', 'Ticket=113503', 'Ticket=113505', 'Ticket=113509', 'Ticket=113510', 'Ticket=113514', 'Ticket=113572', 'Ticket=113760', 'Ticket=113767', 'Ticket=113773', 'Ticket=113776', 'Ticket=113781', 'Ticket=113783', 'Ticket=113784', 'Ticket=113786', 'Ticket=113787', 'Ticket=113788', 'Ticket=113789', 'Ticket=113792', 'Ticket=113794', 'Ticket=113796', 'Ticket=113798', 'Ticket=113800', 'Ticket=113803', 'Ticket=113804', 'Ticket=113806', 'Ticket=113807', 'Ticket=11668', 'Ticket=11751', 'Ticket=11752', 'Ticket=11753', 'Ticket=11755', 'Ticket=11765', 'Ticket=11767', 'Ticket=11769', 'Ticket=11771', 'Ticket=11774', 'Ticket=11813', 'Ticket=11967', 'Ticket=12233', 'Ticket=12460', 'Ticket=12749', 'Ticket=13049', 'Ticket=13213', 'Ticket=13214', 'Ticket=13502', 'Ticket=13507', 'Ticket=13509', 'Ticket=13567', 'Ticket=13568', 'Ticket=14311', 'Ticket=14312', 'Ticket=14313', 'Ticket=14973', 'Ticket=1601', 'Ticket=16966', 'Ticket=16988', 'Ticket=17421', 'Ticket=17453', 'Ticket=17463', 'Ticket=17464', 'Ticket=17465', 'Ticket=17466', 'Ticket=17474', 'Ticket=17764', 'Ticket=19877', 'Ticket=19928', 'Ticket=19943', 'Ticket=19947', 'Ticket=19950', 'Ticket=19952', 'Ticket=19972', 'Ticket=19988', 'Ticket=19996', 'Ticket=2003', 'Ticket=211536', 'Ticket=21440', 'Ticket=218629', 'Ticket=219533', 'Ticket=220367', 'Ticket=220845', 'Ticket=2223', 'Ticket=223596', 'Ticket=226593', 'Ticket=226875', 'Ticket=228414', 'Ticket=229236', 'Ticket=230080', 'Ticket=230136', 'Ticket=230433', 'Ticket=230434', 'Ticket=231919', 'Ticket=231945', 'Ticket=233639', 'Ticket=233866', 'Ticket=234360', 'Ticket=234604', 'Ticket=234686', 'Ticket=234818', 'Ticket=236171', 'Ticket=236852', 'Ticket=236853', 'Ticket=237442', 'Ticket=237565', 'Ticket=237668', 'Ticket=237671', 'Ticket=237736', 'Ticket=237789', 'Ticket=237798', 'Ticket=239853', 'Ticket=239854', 'Ticket=239855', 'Ticket=239856', 'Ticket=239865', 'Ticket=240929', 'Ticket=24160', 'Ticket=243847', 'Ticket=243880', 'Ticket=244252', 'Ticket=244270', 'Ticket=244278', 'Ticket=244310', 'Ticket=244358', 'Ticket=244361', 'Ticket=244367', 'Ticket=244373', 'Ticket=248698', 'Ticket=248706', 'Ticket=248723', 'Ticket=248727', 'Ticket=248731', 'Ticket=248733', 'Ticket=248738', 'Ticket=248740', 'Ticket=248747', 'Ticket=250643', 'Ticket=250644', 'Ticket=250646', 'Ticket=250647', 'Ticket=250648', 'Ticket=250649', 'Ticket=250651', 'Ticket=250652', 'Ticket=250653', 'Ticket=250655', 'Ticket=2620', 'Ticket=2623', 'Ticket=2624', 'Ticket=2625', 'Ticket=2626', 'Ticket=2627', 'Ticket=2628', 'Ticket=2629', 'Ticket=2631', 'Ticket=26360', 'Ticket=2641', 'Ticket=2647', 'Ticket=2648', 'Ticket=2649', 'Ticket=2650', 'Ticket=2651', 'Ticket=2653', 'Ticket=2659', 'Ticket=2661', 'Ticket=2662', 'Ticket=2663', 'Ticket=2664', 'Ticket=2665', 'Ticket=2666', 'Ticket=2667', 'Ticket=2668', 'Ticket=2669', 'Ticket=26707', 'Ticket=2671', 'Ticket=2672', 'Ticket=2674', 'Ticket=2677', 'Ticket=2678', 'Ticket=2680', 'Ticket=2683', 'Ticket=2685', 'Ticket=2686', 'Ticket=2687', 'Ticket=2689', 'Ticket=2690', 'Ticket=2691', 'Ticket=2693', 'Ticket=2694', 'Ticket=2695', 'Ticket=2697', 'Ticket=2699', 'Ticket=2700', 'Ticket=27042', 'Ticket=27267', 'Ticket=27849', 'Ticket=28134', 'Ticket=28206', 'Ticket=28213', 'Ticket=28220', 'Ticket=28228', 'Ticket=28403', 'Ticket=28424', 'Ticket=28425', 'Ticket=28551', 'Ticket=28664', 'Ticket=28665', 'Ticket=29011', 'Ticket=2908', 'Ticket=29103', 'Ticket=29104', 'Ticket=29105', 'Ticket=29106', 'Ticket=29108', 'Ticket=2926', 'Ticket=29750', 'Ticket=29751', 'Ticket=3101264', 'Ticket=3101265', 'Ticket=3101267', 'Ticket=3101276', 'Ticket=3101277', 'Ticket=3101278', 'Ticket=3101281', 'Ticket=3101295', 'Ticket=3101296', 'Ticket=3101298', 'Ticket=31027', 'Ticket=31028', 'Ticket=312991', 'Ticket=312992', 'Ticket=312993', 'Ticket=31418', 'Ticket=315037', 'Ticket=315082', 'Ticket=315084', 'Ticket=315086', 'Ticket=315088', 'Ticket=315089', 'Ticket=315090', 'Ticket=315093', 'Ticket=315094', 'Ticket=315096', 'Ticket=315097', 'Ticket=315098', 'Ticket=315151', 'Ticket=315153', 'Ticket=323592', 'Ticket=323951', 'Ticket=324669', 'Ticket=330877', 'Ticket=330909', 'Ticket=330919', 'Ticket=330923', 'Ticket=330931', 'Ticket=330932', 'Ticket=330935', 'Ticket=330958', 'Ticket=330959', 'Ticket=330979', 'Ticket=330980', 'Ticket=334912', 'Ticket=335097', 'Ticket=335677', 'Ticket=33638', 'Ticket=336439', 'Ticket=3411', 'Ticket=341826', 'Ticket=34218', 'Ticket=342826', 'Ticket=343095', 'Ticket=343120', 'Ticket=343275', 'Ticket=343276', 'Ticket=345364', 'Ticket=345572', 'Ticket=345763', 'Ticket=345764', 'Ticket=345765', 'Ticket=345767', 'Ticket=345769', 'Ticket=345770', 'Ticket=345773', 'Ticket=345774', 'Ticket=345777', 'Ticket=345778', 'Ticket=345779', 'Ticket=345780', 'Ticket=345781', 'Ticket=345783', 'Ticket=3460', 'Ticket=347054', 'Ticket=347060', 'Ticket=347061', 'Ticket=347062', 'Ticket=347063', 'Ticket=347064', 'Ticket=347067', 'Ticket=347068', 'Ticket=347069', 'Ticket=347071', 'Ticket=347073', 'Ticket=347074', 'Ticket=347076', 'Ticket=347077', 'Ticket=347078', 'Ticket=347080', 'Ticket=347081', 'Ticket=347082', 'Ticket=347083', 'Ticket=347085', 'Ticket=347087', 'Ticket=347088', 'Ticket=347089', 'Ticket=3474', 'Ticket=347464', 'Ticket=347466', 'Ticket=347468', 'Ticket=347470', 'Ticket=347742', 'Ticket=347743', 'Ticket=348121', 'Ticket=348123', 'Ticket=348124', 'Ticket=349201', 'Ticket=349203', 'Ticket=349204', 'Ticket=349205', 'Ticket=349206', 'Ticket=349207', 'Ticket=349208', 'Ticket=349209', 'Ticket=349210', 'Ticket=349212', 'Ticket=349213', 'Ticket=349214', 'Ticket=349215', 'Ticket=349216', 'Ticket=349217', 'Ticket=349218', 'Ticket=349219', 'Ticket=349221', 'Ticket=349222', 'Ticket=349223', 'Ticket=349224', 'Ticket=349225', 'Ticket=349227', 'Ticket=349228', 'Ticket=349231', 'Ticket=349233', 'Ticket=349234', 'Ticket=349236', 'Ticket=349237', 'Ticket=349239', 'Ticket=349240', 'Ticket=349241', 'Ticket=349242', 'Ticket=349243', 'Ticket=349244', 'Ticket=349245', 'Ticket=349246', 'Ticket=349247', 'Ticket=349248', 'Ticket=349249', 'Ticket=349251', 'Ticket=349252', 'Ticket=349253', 'Ticket=349254', 'Ticket=349256', 'Ticket=349257', 'Ticket=349909', 'Ticket=349910', 'Ticket=349912', 'Ticket=350025', 'Ticket=350026', 'Ticket=350029', 'Ticket=350034', 'Ticket=350035', 'Ticket=350036', 'Ticket=350042', 'Ticket=350043', 'Ticket=350046', 'Ticket=350047', 'Ticket=350048', 'Ticket=350050', 'Ticket=350052', 'Ticket=350060', 'Ticket=350404', 'Ticket=350406', 'Ticket=350407', 'Ticket=350417', 'Ticket=35273', 'Ticket=35281', 'Ticket=35851', 'Ticket=35852', 'Ticket=358585', 'Ticket=36209', 'Ticket=362316', 'Ticket=363291', 'Ticket=363294', 'Ticket=363592', 'Ticket=364498', 'Ticket=364499', 'Ticket=364500', 'Ticket=364506', 'Ticket=364511', 'Ticket=364512', 'Ticket=364516', 'Ticket=364846', 'Ticket=364848', 'Ticket=364849', 'Ticket=364850', 'Ticket=364851', 'Ticket=365222', 'Ticket=365226', 'Ticket=36568', 'Ticket=367226', 'Ticket=367228', 'Ticket=367229', 'Ticket=367230', 'Ticket=367231', 'Ticket=367232', 'Ticket=367655', 'Ticket=368323', 'Ticket=36864', 'Ticket=36865', 'Ticket=36866', 'Ticket=368703', 'Ticket=36928', 'Ticket=36947', 'Ticket=36963', 'Ticket=36967', 'Ticket=36973', 'Ticket=370129', 'Ticket=370365', 'Ticket=370369', 'Ticket=370370', 'Ticket=370371', 'Ticket=370372', 'Ticket=370373', 'Ticket=370375', 'Ticket=370376', 'Ticket=370377', 'Ticket=371060', 'Ticket=371110', 'Ticket=371362', 'Ticket=372622', 'Ticket=373450', 'Ticket=374746', 'Ticket=374887', 'Ticket=374910', 'Ticket=376564', 'Ticket=376566', 'Ticket=382649', 'Ticket=382651', 'Ticket=382652', 'Ticket=383121', 'Ticket=384461', 'Ticket=386525', 'Ticket=392091', 'Ticket=392092', 'Ticket=392096', 'Ticket=394140', 'Ticket=4133', 'Ticket=4134', 'Ticket=4135', 'Ticket=4136', 'Ticket=4137', 'Ticket=4138', 'Ticket=4579', 'Ticket=54636', 'Ticket=5727', 'Ticket=65303', 'Ticket=65304', 'Ticket=65306', 'Ticket=6563', 'Ticket=693', 'Ticket=695', 'Ticket=7267', 'Ticket=7534', 'Ticket=7540', 'Ticket=7545', 'Ticket=7546', 'Ticket=7552', 'Ticket=7553', 'Ticket=7598', 'Ticket=8471', 'Ticket=8475', 'Ticket=9234', 'Ticket=A./5. 2152', 'Ticket=A./5. 3235', 'Ticket=A.5. 11206', 'Ticket=A.5. 18509', 'Ticket=A/4 45380', 'Ticket=A/4 48871', 'Ticket=A/4. 20589', 'Ticket=A/4. 34244', 'Ticket=A/4. 39886', 'Ticket=A/5 21171', 'Ticket=A/5 21172', 'Ticket=A/5 21173', 'Ticket=A/5 21174', 'Ticket=A/5 2466', 'Ticket=A/5 2817', 'Ticket=A/5 3536', 'Ticket=A/5 3540', 'Ticket=A/5 3594', 'Ticket=A/5 3902', 'Ticket=A/5. 10482', 'Ticket=A/5. 13032', 'Ticket=A/5. 2151', 'Ticket=A/5. 3336', 'Ticket=A/5. 3337', 'Ticket=A/5. 851', 'Ticket=A/S 2816', 'Ticket=A4. 54510', 'Ticket=C 17369', 'Ticket=C 4001', 'Ticket=C 7075', 'Ticket=C 7076', 'Ticket=C 7077', 'Ticket=C.A. 17248', 'Ticket=C.A. 18723', 'Ticket=C.A. 2315', 'Ticket=C.A. 24579', 'Ticket=C.A. 24580', 'Ticket=C.A. 2673', 'Ticket=C.A. 29178', 'Ticket=C.A. 29395', 'Ticket=C.A. 29566', 'Ticket=C.A. 31026', 'Ticket=C.A. 31921', 'Ticket=C.A. 33111', 'Ticket=C.A. 33112', 'Ticket=C.A. 33595', 'Ticket=C.A. 34260', 'Ticket=C.A. 34651', 'Ticket=C.A. 37671', 'Ticket=C.A. 5547', 'Ticket=C.A. 6212', 'Ticket=C.A./SOTON 34068', 'Ticket=CA 2144', 'Ticket=CA. 2314', 'Ticket=CA. 2343', 'Ticket=F.C. 12750', 'Ticket=F.C.C. 13528', 'Ticket=F.C.C. 13529', 'Ticket=F.C.C. 13531', 'Ticket=Fa 265302', 'Ticket=LINE', 'Ticket=P/PP 3381', 'Ticket=PC 17318', 'Ticket=PC 17473', 'Ticket=PC 17474', 'Ticket=PC 17475', 'Ticket=PC 17476', 'Ticket=PC 17477', 'Ticket=PC 17482', 'Ticket=PC 17483', 'Ticket=PC 17485', 'Ticket=PC 17558', 'Ticket=PC 17569', 'Ticket=PC 17572', 'Ticket=PC 17582', 'Ticket=PC 17585', 'Ticket=PC 17590', 'Ticket=PC 17592', 'Ticket=PC 17593', 'Ticket=PC 17595', 'Ticket=PC 17596', 'Ticket=PC 17597', 'Ticket=PC 17599', 'Ticket=PC 17600', 'Ticket=PC 17601', 'Ticket=PC 17603', 'Ticket=PC 17604', 'Ticket=PC 17605', 'Ticket=PC 17608', 'Ticket=PC 17609', 'Ticket=PC 17610', 'Ticket=PC 17611', 'Ticket=PC 17612', 'Ticket=PC 17754', 'Ticket=PC 17755', 'Ticket=PC 17756', 'Ticket=PC 17757', 'Ticket=PC 17758', 'Ticket=PC 17759', 'Ticket=PC 17760', 'Ticket=PC 17761', 'Ticket=PP 4348', 'Ticket=PP 9549', 'Ticket=S.C./A.4. 23567', 'Ticket=S.C./PARIS 2079', 'Ticket=S.O./P.P. 3', 'Ticket=S.O./P.P. 751', 'Ticket=S.O.C. 14879', 'Ticket=S.O.P. 1166', 'Ticket=S.P. 3464', 'Ticket=S.W./PP 752', 'Ticket=SC 1748', 'Ticket=SC/AH 29037', 'Ticket=SC/AH 3085', 'Ticket=SC/AH Basle 541', 'Ticket=SC/PARIS 2131', 'Ticket=SC/PARIS 2133', 'Ticket=SC/PARIS 2146', 'Ticket=SC/PARIS 2149', 'Ticket=SC/PARIS 2167', 'Ticket=SC/Paris 2123', 'Ticket=SC/Paris 2163', 'Ticket=SCO/W 1585', 'Ticket=SO/C 14885', 'Ticket=SOTON/O.Q. 3101305', 'Ticket=SOTON/O.Q. 3101306', 'Ticket=SOTON/O.Q. 3101307', 'Ticket=SOTON/O.Q. 3101310', 'Ticket=SOTON/O.Q. 3101311', 'Ticket=SOTON/O.Q. 3101312', 'Ticket=SOTON/O.Q. 392078', 'Ticket=SOTON/O.Q. 392087', 'Ticket=SOTON/O2 3101272', 'Ticket=SOTON/O2 3101287', 'Ticket=SOTON/OQ 3101316', 'Ticket=SOTON/OQ 3101317', 'Ticket=SOTON/OQ 392076', 'Ticket=SOTON/OQ 392082', 'Ticket=SOTON/OQ 392086', 'Ticket=SOTON/OQ 392089', 'Ticket=SOTON/OQ 392090', 'Ticket=STON/O 2. 3101269', 'Ticket=STON/O 2. 3101273', 'Ticket=STON/O 2. 3101274', 'Ticket=STON/O 2. 3101275', 'Ticket=STON/O 2. 3101280', 'Ticket=STON/O 2. 3101285', 'Ticket=STON/O 2. 3101286', 'Ticket=STON/O 2. 3101288', 'Ticket=STON/O 2. 3101289', 'Ticket=STON/O 2. 3101292', 'Ticket=STON/O 2. 3101293', 'Ticket=STON/O 2. 3101294', 'Ticket=STON/O2. 3101271', 'Ticket=STON/O2. 3101279', 'Ticket=STON/O2. 3101282', 'Ticket=STON/O2. 3101283', 'Ticket=STON/O2. 3101290', 'Ticket=SW/PP 751', 'Ticket=W./C. 14258', 'Ticket=W./C. 14263', 'Ticket=W./C. 6607', 'Ticket=W./C. 6608', 'Ticket=W./C. 6609', 'Ticket=W.E.P. 5734', 'Ticket=W/C 14208', 'Ticket=WE/P 5735', 'family']\n"
     ]
    },
    {
     "name": "stderr",
     "output_type": "stream",
     "text": [
      "D:\\Anaconda\\lib\\site-packages\\pandas\\core\\generic.py:6287: SettingWithCopyWarning: \n",
      "A value is trying to be set on a copy of a slice from a DataFrame\n",
      "\n",
      "See the caveats in the documentation: http://pandas.pydata.org/pandas-docs/stable/user_guide/indexing.html#returning-a-view-versus-a-copy\n",
      "  self._update_inplace(new_data)\n"
     ]
    }
   ],
   "source": [
    "xtrain2['Embarked'].fillna('S',inplace=True)\n",
    "xtest2['Embarked'].fillna('S',inplace=True)\n",
    "from sklearn.feature_extraction import DictVectorizer\n",
    "dvec=DictVectorizer(sparse=False)\n",
    "xtrain2=dvec.fit_transform(xtrain2.to_dict(orient='record'))\n",
    "xtest2=dvec.transform(xtest2.to_dict(orient='record'))\n",
    "print (dvec.feature_names_)"
   ]
  },
  {
   "cell_type": "code",
   "execution_count": 98,
   "metadata": {},
   "outputs": [
    {
     "name": "stderr",
     "output_type": "stream",
     "text": [
      "D:\\Anaconda\\lib\\site-packages\\sklearn\\svm\\base.py:193: FutureWarning: The default value of gamma will change from 'auto' to 'scale' in version 0.22 to account better for unscaled features. Set gamma explicitly to 'auto' or 'scale' to avoid this warning.\n",
      "  \"avoid this warning.\", FutureWarning)\n",
      "D:\\Anaconda\\lib\\site-packages\\sklearn\\svm\\base.py:193: FutureWarning: The default value of gamma will change from 'auto' to 'scale' in version 0.22 to account better for unscaled features. Set gamma explicitly to 'auto' or 'scale' to avoid this warning.\n",
      "  \"avoid this warning.\", FutureWarning)\n",
      "D:\\Anaconda\\lib\\site-packages\\sklearn\\svm\\base.py:193: FutureWarning: The default value of gamma will change from 'auto' to 'scale' in version 0.22 to account better for unscaled features. Set gamma explicitly to 'auto' or 'scale' to avoid this warning.\n",
      "  \"avoid this warning.\", FutureWarning)\n",
      "D:\\Anaconda\\lib\\site-packages\\sklearn\\svm\\base.py:193: FutureWarning: The default value of gamma will change from 'auto' to 'scale' in version 0.22 to account better for unscaled features. Set gamma explicitly to 'auto' or 'scale' to avoid this warning.\n",
      "  \"avoid this warning.\", FutureWarning)\n",
      "D:\\Anaconda\\lib\\site-packages\\sklearn\\svm\\base.py:193: FutureWarning: The default value of gamma will change from 'auto' to 'scale' in version 0.22 to account better for unscaled features. Set gamma explicitly to 'auto' or 'scale' to avoid this warning.\n",
      "  \"avoid this warning.\", FutureWarning)\n",
      "D:\\Anaconda\\lib\\site-packages\\sklearn\\svm\\base.py:193: FutureWarning: The default value of gamma will change from 'auto' to 'scale' in version 0.22 to account better for unscaled features. Set gamma explicitly to 'auto' or 'scale' to avoid this warning.\n",
      "  \"avoid this warning.\", FutureWarning)\n",
      "D:\\Anaconda\\lib\\site-packages\\sklearn\\svm\\base.py:193: FutureWarning: The default value of gamma will change from 'auto' to 'scale' in version 0.22 to account better for unscaled features. Set gamma explicitly to 'auto' or 'scale' to avoid this warning.\n",
      "  \"avoid this warning.\", FutureWarning)\n",
      "D:\\Anaconda\\lib\\site-packages\\sklearn\\svm\\base.py:193: FutureWarning: The default value of gamma will change from 'auto' to 'scale' in version 0.22 to account better for unscaled features. Set gamma explicitly to 'auto' or 'scale' to avoid this warning.\n",
      "  \"avoid this warning.\", FutureWarning)\n",
      "D:\\Anaconda\\lib\\site-packages\\sklearn\\svm\\base.py:193: FutureWarning: The default value of gamma will change from 'auto' to 'scale' in version 0.22 to account better for unscaled features. Set gamma explicitly to 'auto' or 'scale' to avoid this warning.\n",
      "  \"avoid this warning.\", FutureWarning)\n",
      "D:\\Anaconda\\lib\\site-packages\\sklearn\\svm\\base.py:193: FutureWarning: The default value of gamma will change from 'auto' to 'scale' in version 0.22 to account better for unscaled features. Set gamma explicitly to 'auto' or 'scale' to avoid this warning.\n",
      "  \"avoid this warning.\", FutureWarning)\n"
     ]
    },
    {
     "name": "stdout",
     "output_type": "stream",
     "text": [
      "SVM : 0.78686\n",
      "DecisionTree : 0.83057\n",
      "RandomForest : 0.82373\n",
      "LogisticRegression : 0.80471\n"
     ]
    },
    {
     "name": "stderr",
     "output_type": "stream",
     "text": [
      "D:\\Anaconda\\lib\\site-packages\\sklearn\\linear_model\\logistic.py:432: FutureWarning: Default solver will be changed to 'lbfgs' in 0.22. Specify a solver to silence this warning.\n",
      "  FutureWarning)\n",
      "D:\\Anaconda\\lib\\site-packages\\sklearn\\linear_model\\logistic.py:432: FutureWarning: Default solver will be changed to 'lbfgs' in 0.22. Specify a solver to silence this warning.\n",
      "  FutureWarning)\n",
      "D:\\Anaconda\\lib\\site-packages\\sklearn\\linear_model\\logistic.py:432: FutureWarning: Default solver will be changed to 'lbfgs' in 0.22. Specify a solver to silence this warning.\n",
      "  FutureWarning)\n",
      "D:\\Anaconda\\lib\\site-packages\\sklearn\\linear_model\\logistic.py:432: FutureWarning: Default solver will be changed to 'lbfgs' in 0.22. Specify a solver to silence this warning.\n",
      "  FutureWarning)\n",
      "D:\\Anaconda\\lib\\site-packages\\sklearn\\linear_model\\logistic.py:432: FutureWarning: Default solver will be changed to 'lbfgs' in 0.22. Specify a solver to silence this warning.\n",
      "  FutureWarning)\n",
      "D:\\Anaconda\\lib\\site-packages\\sklearn\\linear_model\\logistic.py:432: FutureWarning: Default solver will be changed to 'lbfgs' in 0.22. Specify a solver to silence this warning.\n",
      "  FutureWarning)\n",
      "D:\\Anaconda\\lib\\site-packages\\sklearn\\linear_model\\logistic.py:432: FutureWarning: Default solver will be changed to 'lbfgs' in 0.22. Specify a solver to silence this warning.\n",
      "  FutureWarning)\n",
      "D:\\Anaconda\\lib\\site-packages\\sklearn\\linear_model\\logistic.py:432: FutureWarning: Default solver will be changed to 'lbfgs' in 0.22. Specify a solver to silence this warning.\n",
      "  FutureWarning)\n",
      "D:\\Anaconda\\lib\\site-packages\\sklearn\\linear_model\\logistic.py:432: FutureWarning: Default solver will be changed to 'lbfgs' in 0.22. Specify a solver to silence this warning.\n",
      "  FutureWarning)\n",
      "D:\\Anaconda\\lib\\site-packages\\sklearn\\linear_model\\logistic.py:432: FutureWarning: Default solver will be changed to 'lbfgs' in 0.22. Specify a solver to silence this warning.\n",
      "  FutureWarning)\n"
     ]
    }
   ],
   "source": [
    "print ('SVM :', np.mean(cross_val_score(svc, xtrain2, ytrain2, cv=10)).round(5))\n",
    "print ('DecisionTree :', np.mean(cross_val_score(decC, xtrain2, ytrain2, cv=10)).round(5))\n",
    "print ('RandomForest :', np.mean(cross_val_score(ranC, xtrain2, ytrain2, cv=10)).round(5))\n",
    "print ('LogisticRegression :', np.mean(cross_val_score(logR, xtrain2, ytrain2, cv=10)).round(5))"
   ]
  },
  {
   "cell_type": "code",
   "execution_count": 100,
   "metadata": {},
   "outputs": [
    {
     "name": "stderr",
     "output_type": "stream",
     "text": [
      "D:\\Anaconda\\lib\\site-packages\\sklearn\\linear_model\\logistic.py:432: FutureWarning: Default solver will be changed to 'lbfgs' in 0.22. Specify a solver to silence this warning.\n",
      "  FutureWarning)\n"
     ]
    }
   ],
   "source": [
    "# 訓練\n",
    "logR.fit(xtrain2, ytrain2)\n",
    "# 預測\n",
    "ypredict3 = logR.predict(xtest2)\n",
    "# 儲存結果\n",
    "result3 = {'PassengerId': test['PassengerId'],\n",
    "'Survived': ypredict3}\n",
    "result3 = pd.DataFrame(result3)\n",
    "result3.to_csv('submission.csv',index=False)"
   ]
  },
  {
   "cell_type": "code",
   "execution_count": 101,
   "metadata": {},
   "outputs": [
    {
     "data": {
      "text/html": [
       "<div>\n",
       "<style scoped>\n",
       "    .dataframe tbody tr th:only-of-type {\n",
       "        vertical-align: middle;\n",
       "    }\n",
       "\n",
       "    .dataframe tbody tr th {\n",
       "        vertical-align: top;\n",
       "    }\n",
       "\n",
       "    .dataframe thead th {\n",
       "        text-align: right;\n",
       "    }\n",
       "</style>\n",
       "<table border=\"1\" class=\"dataframe\">\n",
       "  <thead>\n",
       "    <tr style=\"text-align: right;\">\n",
       "      <th></th>\n",
       "      <th>PassengerId</th>\n",
       "      <th>Survived</th>\n",
       "    </tr>\n",
       "  </thead>\n",
       "  <tbody>\n",
       "    <tr>\n",
       "      <th>0</th>\n",
       "      <td>892</td>\n",
       "      <td>0</td>\n",
       "    </tr>\n",
       "    <tr>\n",
       "      <th>1</th>\n",
       "      <td>893</td>\n",
       "      <td>1</td>\n",
       "    </tr>\n",
       "    <tr>\n",
       "      <th>2</th>\n",
       "      <td>894</td>\n",
       "      <td>0</td>\n",
       "    </tr>\n",
       "    <tr>\n",
       "      <th>3</th>\n",
       "      <td>895</td>\n",
       "      <td>0</td>\n",
       "    </tr>\n",
       "    <tr>\n",
       "      <th>4</th>\n",
       "      <td>896</td>\n",
       "      <td>1</td>\n",
       "    </tr>\n",
       "    <tr>\n",
       "      <th>...</th>\n",
       "      <td>...</td>\n",
       "      <td>...</td>\n",
       "    </tr>\n",
       "    <tr>\n",
       "      <th>413</th>\n",
       "      <td>1305</td>\n",
       "      <td>0</td>\n",
       "    </tr>\n",
       "    <tr>\n",
       "      <th>414</th>\n",
       "      <td>1306</td>\n",
       "      <td>1</td>\n",
       "    </tr>\n",
       "    <tr>\n",
       "      <th>415</th>\n",
       "      <td>1307</td>\n",
       "      <td>0</td>\n",
       "    </tr>\n",
       "    <tr>\n",
       "      <th>416</th>\n",
       "      <td>1308</td>\n",
       "      <td>0</td>\n",
       "    </tr>\n",
       "    <tr>\n",
       "      <th>417</th>\n",
       "      <td>1309</td>\n",
       "      <td>0</td>\n",
       "    </tr>\n",
       "  </tbody>\n",
       "</table>\n",
       "<p>418 rows × 2 columns</p>\n",
       "</div>"
      ],
      "text/plain": [
       "     PassengerId  Survived\n",
       "0            892         0\n",
       "1            893         1\n",
       "2            894         0\n",
       "3            895         0\n",
       "4            896         1\n",
       "..           ...       ...\n",
       "413         1305         0\n",
       "414         1306         1\n",
       "415         1307         0\n",
       "416         1308         0\n",
       "417         1309         0\n",
       "\n",
       "[418 rows x 2 columns]"
      ]
     },
     "execution_count": 101,
     "metadata": {},
     "output_type": "execute_result"
    }
   ],
   "source": [
    "result3"
   ]
  },
  {
   "cell_type": "code",
   "execution_count": 102,
   "metadata": {},
   "outputs": [],
   "source": [
    "# 訓練\n",
    "ranC.fit(xtrain2, ytrain2)\n",
    "# 預測\n",
    "ypredict4 = ranC.predict(xtest2)\n",
    "# 儲存結果\n",
    "result4 = {'PassengerId': test['PassengerId'],\n",
    "'Survived': ypredict4}\n",
    "result4 = pd.DataFrame(result4)\n",
    "result4.to_csv('submission.csv',index=False)"
   ]
  },
  {
   "cell_type": "code",
   "execution_count": 103,
   "metadata": {},
   "outputs": [
    {
     "data": {
      "text/html": [
       "<div>\n",
       "<style scoped>\n",
       "    .dataframe tbody tr th:only-of-type {\n",
       "        vertical-align: middle;\n",
       "    }\n",
       "\n",
       "    .dataframe tbody tr th {\n",
       "        vertical-align: top;\n",
       "    }\n",
       "\n",
       "    .dataframe thead th {\n",
       "        text-align: right;\n",
       "    }\n",
       "</style>\n",
       "<table border=\"1\" class=\"dataframe\">\n",
       "  <thead>\n",
       "    <tr style=\"text-align: right;\">\n",
       "      <th></th>\n",
       "      <th>PassengerId</th>\n",
       "      <th>Survived</th>\n",
       "    </tr>\n",
       "  </thead>\n",
       "  <tbody>\n",
       "    <tr>\n",
       "      <th>0</th>\n",
       "      <td>892</td>\n",
       "      <td>0</td>\n",
       "    </tr>\n",
       "    <tr>\n",
       "      <th>1</th>\n",
       "      <td>893</td>\n",
       "      <td>1</td>\n",
       "    </tr>\n",
       "    <tr>\n",
       "      <th>2</th>\n",
       "      <td>894</td>\n",
       "      <td>0</td>\n",
       "    </tr>\n",
       "    <tr>\n",
       "      <th>3</th>\n",
       "      <td>895</td>\n",
       "      <td>0</td>\n",
       "    </tr>\n",
       "    <tr>\n",
       "      <th>4</th>\n",
       "      <td>896</td>\n",
       "      <td>1</td>\n",
       "    </tr>\n",
       "    <tr>\n",
       "      <th>...</th>\n",
       "      <td>...</td>\n",
       "      <td>...</td>\n",
       "    </tr>\n",
       "    <tr>\n",
       "      <th>413</th>\n",
       "      <td>1305</td>\n",
       "      <td>0</td>\n",
       "    </tr>\n",
       "    <tr>\n",
       "      <th>414</th>\n",
       "      <td>1306</td>\n",
       "      <td>1</td>\n",
       "    </tr>\n",
       "    <tr>\n",
       "      <th>415</th>\n",
       "      <td>1307</td>\n",
       "      <td>0</td>\n",
       "    </tr>\n",
       "    <tr>\n",
       "      <th>416</th>\n",
       "      <td>1308</td>\n",
       "      <td>0</td>\n",
       "    </tr>\n",
       "    <tr>\n",
       "      <th>417</th>\n",
       "      <td>1309</td>\n",
       "      <td>1</td>\n",
       "    </tr>\n",
       "  </tbody>\n",
       "</table>\n",
       "<p>418 rows × 2 columns</p>\n",
       "</div>"
      ],
      "text/plain": [
       "     PassengerId  Survived\n",
       "0            892         0\n",
       "1            893         1\n",
       "2            894         0\n",
       "3            895         0\n",
       "4            896         1\n",
       "..           ...       ...\n",
       "413         1305         0\n",
       "414         1306         1\n",
       "415         1307         0\n",
       "416         1308         0\n",
       "417         1309         1\n",
       "\n",
       "[418 rows x 2 columns]"
      ]
     },
     "execution_count": 103,
     "metadata": {},
     "output_type": "execute_result"
    }
   ],
   "source": [
    "result4"
   ]
  },
  {
   "cell_type": "code",
   "execution_count": null,
   "metadata": {},
   "outputs": [],
   "source": []
  }
 ],
 "metadata": {
  "kernelspec": {
   "display_name": "Python 3",
   "language": "python",
   "name": "python3"
  },
  "language_info": {
   "codemirror_mode": {
    "name": "ipython",
    "version": 3
   },
   "file_extension": ".py",
   "mimetype": "text/x-python",
   "name": "python",
   "nbconvert_exporter": "python",
   "pygments_lexer": "ipython3",
   "version": "3.7.3"
  }
 },
 "nbformat": 4,
 "nbformat_minor": 2
}
